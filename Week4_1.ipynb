{
 "cells": [
  {
   "cell_type": "markdown",
   "id": "e79a517a",
   "metadata": {},
   "source": [
    "# Exercise 1 - Week 4\n",
    "\n",
    "## Heart Failure Clinical Records Dataset"
   ]
  },
  {
   "cell_type": "markdown",
   "id": "4e19cbd6",
   "metadata": {},
   "source": [
    "**Objective:** Load the Heart Failure Clinical Records Dataset, perform EDA, handle missing values, engineer features, and visualize key relationships."
   ]
  },
  {
   "cell_type": "code",
   "execution_count": null,
   "id": "21c9c8f8",
   "metadata": {},
   "outputs": [],
   "source": [
    "import pandas as pd\n",
    "import numpy as np\n",
    "import matplotlib.pyplot as plt\n",
    "import seaborn as sns\n",
    "\n",
    "# Set up plotting inline\n",
    "%matplotlib inline"
   ]
  },
  {
   "cell_type": "code",
   "execution_count": null,
   "id": "1d34a096",
   "metadata": {},
   "outputs": [],
   "source": [
    "# 1. Load the dataset (update the path if needed)\n",
    "df = pd.read_csv('heart_failure_clinical_records_dataset.csv')"
   ]
  },
  {
   "cell_type": "code",
   "execution_count": null,
   "id": "a6b4e3a5",
   "metadata": {},
   "outputs": [],
   "source": [
    "# 2. Inspect structure and preview data\n",
    "df.info()\n",
    "df.head()"
   ]
  },
  {
   "cell_type": "code",
   "execution_count": null,
   "id": "4cbe5a4e",
   "metadata": {},
   "outputs": [],
   "source": [
    "# 3. Handle missing data\n",
    "# Example: forward fill or drop missing rows\n",
    "df = df.fillna(method='ffill')"
   ]
  },
  {
   "cell_type": "code",
   "execution_count": null,
   "id": "629e0335",
   "metadata": {},
   "outputs": [],
   "source": [
    "# 4. Summary statistics\n",
    "summary_stats = df.describe()\n",
    "summary_stats"
   ]
  },
  {
   "cell_type": "code",
   "execution_count": null,
   "id": "3eeed081",
   "metadata": {},
   "outputs": [],
   "source": [
    "# 5. Feature engineering\n",
    "# Convert categorical variables if any\n",
    "# df['column'] = df['column'].astype('category').cat.codes"
   ]
  },
  {
   "cell_type": "code",
   "execution_count": null,
   "id": "11a1fa85",
   "metadata": {},
   "outputs": [],
   "source": [
    "# 6. Visualizations\n",
    "# Age distribution\n",
    "sns.histplot(df['age'], kde=True)\n",
    "plt.title('Age Distribution')\n",
    "plt.show()"
   ]
  },
  {
   "cell_type": "code",
   "execution_count": null,
   "id": "073fdf8c",
   "metadata": {},
   "outputs": [],
   "source": [
    "# 7. Scatter plot: Ejection Fraction vs Age\n",
    "sns.scatterplot(x='age', y='ejection_fraction', hue='DEATH_EVENT', data=df)\n",
    "plt.title('Ejection Fraction vs Age by Survival')\n",
    "plt.show()"
   ]
  },
  {
   "cell_type": "code",
   "execution_count": null,
   "id": "b7739e57",
   "metadata": {},
   "outputs": [],
   "source": [
    "# 8. Box plot: Serum Creatinine by Survival Status\n",
    "sns.boxplot(x='DEATH_EVENT', y='serum_creatinine', data=df)\n",
    "plt.title('Serum Creatinine by Survival Status')\n",
    "plt.show()"
   ]
  },
  {
   "cell_type": "markdown",
   "id": "eb902ad8",
   "metadata": {},
   "source": [
    "**Conclusion:** Review the summary statistics and visual patterns to draw insights on features impacting patient survival."
   ]
  }
 ],
 "metadata": {},
 "nbformat": 4,
 "nbformat_minor": 5
}